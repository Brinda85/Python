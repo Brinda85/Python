{
 "cells": [
  {
   "cell_type": "code",
   "execution_count": 3,
   "metadata": {},
   "outputs": [
    {
     "name": "stdout",
     "output_type": "stream",
     "text": [
      "Data-Science-Mentorship-Program\n"
     ]
    }
   ],
   "source": [
    "print('Data',end='-')\n",
    "print('Science',end='-')\n",
    "print('Mentorship',end='-')\n",
    "print('Program')\n"
   ]
  },
  {
   "cell_type": "code",
   "execution_count": 7,
   "metadata": {},
   "outputs": [
    {
     "name": "stdout",
     "output_type": "stream",
     "text": [
      "40 Celsius = 104.0 Fahrenheit\n"
     ]
    }
   ],
   "source": [
    "c = int(input('Enter value in celsius'))\n",
    "f = c *(9/5) + 32\n",
    "print(f'{c} Celsius = {f} Fahrenheit')\n",
    "\n"
   ]
  },
  {
   "cell_type": "code",
   "execution_count": 9,
   "metadata": {},
   "outputs": [
    {
     "name": "stdout",
     "output_type": "stream",
     "text": [
      "Before swap the numbers are : 10,15\n",
      "After swap numbers are : 15,10\n"
     ]
    }
   ],
   "source": [
    "num1 = int(input('Enter num1'))\n",
    "num2 = int(input('Enter num2'))\n",
    "print(f'Before swap the numbers are : {num1},{num2}')\n",
    "\n",
    "num = num1\n",
    "num1 = num2\n",
    "num2 = num\n",
    "\n",
    "print(f'After swap numbers are : {num1},{num2}')"
   ]
  },
  {
   "cell_type": "code",
   "execution_count": 21,
   "metadata": {},
   "outputs": [
    {
     "name": "stdout",
     "output_type": "stream",
     "text": [
      "Sum of Square =  55\n"
     ]
    }
   ],
   "source": [
    "n = 5\n",
    "sum = 0\n",
    "for i in range(1,n+1):\n",
    "    sum = i*i + sum\n",
    "print(\"Sum of Square = \",sum)"
   ]
  },
  {
   "cell_type": "code",
   "execution_count": 22,
   "metadata": {},
   "outputs": [
    {
     "name": "stdout",
     "output_type": "stream",
     "text": [
      "45\n"
     ]
    }
   ],
   "source": [
    "a = 5\n",
    "d = 10\n",
    "n = 5\n",
    "\n",
    "an = a +(n-1)*d\n",
    "\n",
    "print(an)"
   ]
  },
  {
   "cell_type": "code",
   "execution_count": 2,
   "metadata": {},
   "outputs": [
    {
     "name": "stdout",
     "output_type": "stream",
     "text": [
      "12500.0\n"
     ]
    }
   ],
   "source": [
    "# Simple interest in year\n",
    "p = 50000\n",
    "r = 5\n",
    "t = 5\n",
    "\n",
    "si = p*r*t/100\n",
    "print(si)"
   ]
  }
 ],
 "metadata": {
  "kernelspec": {
   "display_name": "venv",
   "language": "python",
   "name": "python3"
  },
  "language_info": {
   "codemirror_mode": {
    "name": "ipython",
    "version": 3
   },
   "file_extension": ".py",
   "mimetype": "text/x-python",
   "name": "python",
   "nbconvert_exporter": "python",
   "pygments_lexer": "ipython3",
   "version": "3.9.1"
  },
  "orig_nbformat": 4
 },
 "nbformat": 4,
 "nbformat_minor": 2
}
