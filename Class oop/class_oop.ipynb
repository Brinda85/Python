{
 "cells": [
  {
   "cell_type": "markdown",
   "metadata": {},
   "source": [
    "#### Creating custom class - Person"
   ]
  },
  {
   "cell_type": "code",
   "execution_count": 1,
   "metadata": {},
   "outputs": [],
   "source": [
    "class Person:\n",
    "    \n",
    "    # Constructor function - define attributes of function\n",
    "    def __init__(self,name,age,gender,occupation):\n",
    "        self.name = name\n",
    "        self.age = age\n",
    "        self.gender = gender\n",
    "        self.occupation = occupation\n",
    "        \n",
    "    # User Defined Function\n",
    "    def talk(self):\n",
    "        print(f'Hi! My Name is {self.name}')\n",
    "        print(f'My age is {self.age}')\n",
    "        print(f'I am {self.gender}')\n",
    "        print(f'I work as {self.occupation}')\n",
    "        "
   ]
  },
  {
   "cell_type": "code",
   "execution_count": 3,
   "metadata": {},
   "outputs": [],
   "source": [
    "p1 =Person (name='Brinda',age=30,gender='Female',occupation='Data scientist')"
   ]
  },
  {
   "cell_type": "code",
   "execution_count": 4,
   "metadata": {},
   "outputs": [
    {
     "name": "stdout",
     "output_type": "stream",
     "text": [
      "<class '__main__.Person'>\n"
     ]
    }
   ],
   "source": [
    "print(type(p1))"
   ]
  },
  {
   "cell_type": "code",
   "execution_count": 5,
   "metadata": {},
   "outputs": [
    {
     "data": {
      "text/plain": [
       "'Brinda'"
      ]
     },
     "execution_count": 5,
     "metadata": {},
     "output_type": "execute_result"
    }
   ],
   "source": [
    "p1.name"
   ]
  },
  {
   "cell_type": "code",
   "execution_count": 6,
   "metadata": {},
   "outputs": [
    {
     "data": {
      "text/plain": [
       "'Data scientist'"
      ]
     },
     "execution_count": 6,
     "metadata": {},
     "output_type": "execute_result"
    }
   ],
   "source": [
    "p1.occupation"
   ]
  },
  {
   "cell_type": "code",
   "execution_count": 7,
   "metadata": {},
   "outputs": [
    {
     "name": "stdout",
     "output_type": "stream",
     "text": [
      "Hi! My Name is Brinda\n",
      "My age is 30\n",
      "I am Female\n",
      "I work as Data scientist\n"
     ]
    }
   ],
   "source": [
    "p1.talk()"
   ]
  },
  {
   "cell_type": "markdown",
   "metadata": {},
   "source": [
    "#### Create a class Bank Account"
   ]
  },
  {
   "cell_type": "markdown",
   "metadata": {},
   "source": [
    "![Alt text](<Screenshot 2023-09-15 132533.png>)"
   ]
  },
  {
   "cell_type": "code",
   "execution_count": 8,
   "metadata": {},
   "outputs": [],
   "source": [
    "class Account:\n",
    "    \n",
    "    # Add init constructor\n",
    "    def __init__(self,ac_no,name,bal=0):\n",
    "        self.ac_no = ac_no\n",
    "        self.name = name\n",
    "        self.bal = bal\n",
    "        \n",
    "    # Function for Depositing Money\n",
    "    def deposite(self,amt):\n",
    "        self.bal = self.bal + amt\n",
    "        print(f'Balance of {amt} INR Deposited in your bank account number {self.ac_no}')\n",
    "        print(f'Current Balance : {self.bal} INR')\n",
    "        \n",
    "    # Function to withdraw money\n",
    "    def withdraw(self,amt):\n",
    "        if self.bal >= amt:\n",
    "            self.bal = self.bal - amt\n",
    "            print(f'Amount of {amt} INR withdraw from your bank account number {self.ac_no}')\n",
    "            print(f'Current Balance : {self.bal} INR')\n",
    "        else:\n",
    "            print(f'Insufficient Balance in account {self.ac_no}. Current Balance : {self.bal}')\n",
    "        \n",
    "    # Function to transfer money\n",
    "    def transfer(self,amt,ac2):\n",
    "        if self.bal >= amt:\n",
    "            self.bal = self.bal - amt\n",
    "            ac2.bal = ac2.bal + amt\n",
    "            print(f'Amount of {amt} INR Transferred to account number : {ac2.ac_no} to from your account {self.ac_no}')\n",
    "            print(f'Current Balance : {self.bal} INR')\n",
    "        else:\n",
    "            print(f'Insufficient balance in account {self.ac_no}. Current balance : {self.bal}')"
   ]
  },
  {
   "cell_type": "code",
   "execution_count": 31,
   "metadata": {},
   "outputs": [],
   "source": [
    "a1 = Account(ac_no=123,name='Anand Tiwari',bal=5000)"
   ]
  },
  {
   "cell_type": "code",
   "execution_count": 33,
   "metadata": {},
   "outputs": [
    {
     "name": "stdout",
     "output_type": "stream",
     "text": [
      "<class '__main__.Account'>\n"
     ]
    }
   ],
   "source": [
    "print(type(a1))"
   ]
  },
  {
   "cell_type": "code",
   "execution_count": 34,
   "metadata": {},
   "outputs": [
    {
     "data": {
      "text/plain": [
       "123"
      ]
     },
     "execution_count": 34,
     "metadata": {},
     "output_type": "execute_result"
    }
   ],
   "source": [
    "a1.ac_no"
   ]
  },
  {
   "cell_type": "code",
   "execution_count": 35,
   "metadata": {},
   "outputs": [
    {
     "data": {
      "text/plain": [
       "5000"
      ]
     },
     "execution_count": 35,
     "metadata": {},
     "output_type": "execute_result"
    }
   ],
   "source": [
    "a1.bal\n"
   ]
  },
  {
   "cell_type": "code",
   "execution_count": 36,
   "metadata": {},
   "outputs": [
    {
     "name": "stdout",
     "output_type": "stream",
     "text": [
      "Balance of 2500 INR Deposited in your bank account number 123\n",
      "Current Balance : 7500 INR\n"
     ]
    }
   ],
   "source": [
    "a1.deposite(2500)"
   ]
  },
  {
   "cell_type": "code",
   "execution_count": 37,
   "metadata": {},
   "outputs": [
    {
     "name": "stdout",
     "output_type": "stream",
     "text": [
      "Amount of 1000 INR withdraw from your bank account number 123\n",
      "Current Balance : 6500 INR\n"
     ]
    }
   ],
   "source": [
    "a1.withdraw(1000)"
   ]
  },
  {
   "cell_type": "code",
   "execution_count": 38,
   "metadata": {},
   "outputs": [
    {
     "name": "stdout",
     "output_type": "stream",
     "text": [
      "Insufficient Balance in account 123. Current Balance : 6500\n"
     ]
    }
   ],
   "source": [
    "a1.withdraw(8000)"
   ]
  },
  {
   "cell_type": "code",
   "execution_count": 39,
   "metadata": {},
   "outputs": [],
   "source": [
    "a2 = Account(ac_no=456,name='Anjana Tiwari')"
   ]
  },
  {
   "cell_type": "code",
   "execution_count": 40,
   "metadata": {},
   "outputs": [
    {
     "data": {
      "text/plain": [
       "0"
      ]
     },
     "execution_count": 40,
     "metadata": {},
     "output_type": "execute_result"
    }
   ],
   "source": [
    "a2.bal"
   ]
  },
  {
   "cell_type": "markdown",
   "metadata": {},
   "source": [
    "#### Transferring money ac1 to ac2"
   ]
  },
  {
   "cell_type": "code",
   "execution_count": 41,
   "metadata": {},
   "outputs": [
    {
     "data": {
      "text/plain": [
       "6500"
      ]
     },
     "execution_count": 41,
     "metadata": {},
     "output_type": "execute_result"
    }
   ],
   "source": [
    "a1.bal"
   ]
  },
  {
   "cell_type": "code",
   "execution_count": 42,
   "metadata": {},
   "outputs": [
    {
     "name": "stdout",
     "output_type": "stream",
     "text": [
      "Amount of 1000 INR Transferred to account number : 456 to from your account 123\n",
      "Current Balance : 5500 INR\n"
     ]
    }
   ],
   "source": [
    "a1.transfer(amt=1000,ac2=a2)"
   ]
  },
  {
   "cell_type": "code",
   "execution_count": 43,
   "metadata": {},
   "outputs": [
    {
     "data": {
      "text/plain": [
       "1000"
      ]
     },
     "execution_count": 43,
     "metadata": {},
     "output_type": "execute_result"
    }
   ],
   "source": [
    "a2.bal"
   ]
  },
  {
   "cell_type": "code",
   "execution_count": 44,
   "metadata": {},
   "outputs": [
    {
     "data": {
      "text/plain": [
       "5500"
      ]
     },
     "execution_count": 44,
     "metadata": {},
     "output_type": "execute_result"
    }
   ],
   "source": [
    "a1.bal"
   ]
  },
  {
   "cell_type": "code",
   "execution_count": 45,
   "metadata": {},
   "outputs": [
    {
     "name": "stdout",
     "output_type": "stream",
     "text": [
      "Amount of 500 INR Transferred to account number : 123 to from your account 456\n",
      "Current Balance : 500 INR\n"
     ]
    }
   ],
   "source": [
    "a2.transfer(amt=500,ac2=a1)"
   ]
  },
  {
   "cell_type": "code",
   "execution_count": 46,
   "metadata": {},
   "outputs": [
    {
     "data": {
      "text/plain": [
       "500"
      ]
     },
     "execution_count": 46,
     "metadata": {},
     "output_type": "execute_result"
    }
   ],
   "source": [
    "a2.bal"
   ]
  },
  {
   "cell_type": "code",
   "execution_count": 47,
   "metadata": {},
   "outputs": [
    {
     "data": {
      "text/plain": [
       "6000"
      ]
     },
     "execution_count": 47,
     "metadata": {},
     "output_type": "execute_result"
    }
   ],
   "source": [
    "a1.bal\n"
   ]
  },
  {
   "cell_type": "markdown",
   "metadata": {},
   "source": [
    "![Alt text](<Screenshot 2023-09-15 135503.png>)"
   ]
  },
  {
   "cell_type": "code",
   "execution_count": 51,
   "metadata": {},
   "outputs": [],
   "source": [
    "class Triangle:\n",
    "    \n",
    "    # Add init constructor\n",
    "    def __init__(self,a,b,c):\n",
    "        self.a = a\n",
    "        self.b = b\n",
    "        self.c = c\n",
    "        \n",
    "        \n",
    "    # Function for form a triangle\n",
    "    def is_tringle(self):\n",
    "        if (self.a+self.b)>self.c and (self.b+self.c)>self.a and (self.a+self.c)>self.b:\n",
    "            tr = True\n",
    "            print(f'Given sides {self.a},{self.b} and {self.c} form a triangle.')\n",
    "        else:\n",
    "            tr = False\n",
    "            print(f'Given sides {self.a},{self.b} and {self.c} not form a triangle.')\n",
    "        return tr\n",
    "    \n",
    "    # Function for Perimeter for triangle\n",
    "    def perimeter(self):\n",
    "        if self.is_tringle() == True:\n",
    "            p = self.a + self.b + self.c\n",
    "        else:\n",
    "            p = None            \n",
    "        return p\n",
    "    \n",
    "    # Function for Area of Triangle with herons formula\n",
    "    def area_triangle(self):\n",
    "        if self.is_tringle() == True:\n",
    "            s = (self.a+self.b+self.c)/2\n",
    "            area = (s*(s-self.a)*(s-self.b)*(s-self.c))**(1/2)\n",
    "            \n",
    "        else:\n",
    "            area = None\n",
    "        return area"
   ]
  },
  {
   "cell_type": "code",
   "execution_count": 47,
   "metadata": {},
   "outputs": [],
   "source": [
    "t1 = Triangle(3,4,5)"
   ]
  },
  {
   "cell_type": "code",
   "execution_count": 36,
   "metadata": {},
   "outputs": [
    {
     "name": "stdout",
     "output_type": "stream",
     "text": [
      "<class '__main__.Triangle'>\n"
     ]
    }
   ],
   "source": [
    "print(type(t1))"
   ]
  },
  {
   "cell_type": "code",
   "execution_count": 48,
   "metadata": {},
   "outputs": [
    {
     "name": "stdout",
     "output_type": "stream",
     "text": [
      "Given sides 3,4 and 5 form a triangle.\n"
     ]
    },
    {
     "data": {
      "text/plain": [
       "True"
      ]
     },
     "execution_count": 48,
     "metadata": {},
     "output_type": "execute_result"
    }
   ],
   "source": [
    "t1.is_tringle()"
   ]
  },
  {
   "cell_type": "code",
   "execution_count": 49,
   "metadata": {},
   "outputs": [
    {
     "name": "stdout",
     "output_type": "stream",
     "text": [
      "Given sides 3,4 and 5 form a triangle.\n"
     ]
    }
   ],
   "source": [
    "p1 = t1.perimeter()\n"
   ]
  },
  {
   "cell_type": "code",
   "execution_count": 50,
   "metadata": {},
   "outputs": [
    {
     "data": {
      "text/plain": [
       "12"
      ]
     },
     "execution_count": 50,
     "metadata": {},
     "output_type": "execute_result"
    }
   ],
   "source": [
    "p1"
   ]
  },
  {
   "cell_type": "code",
   "execution_count": 40,
   "metadata": {},
   "outputs": [
    {
     "name": "stdout",
     "output_type": "stream",
     "text": [
      "Given sides 3,4 and 5 form a triangle.\n",
      "The area of given side 3,4 and 5 is : 6.0 \n"
     ]
    }
   ],
   "source": [
    "a1 = t1.area_triangle()"
   ]
  },
  {
   "cell_type": "code",
   "execution_count": 52,
   "metadata": {},
   "outputs": [
    {
     "data": {
      "text/plain": [
       "6.0"
      ]
     },
     "execution_count": 52,
     "metadata": {},
     "output_type": "execute_result"
    }
   ],
   "source": [
    "a1"
   ]
  },
  {
   "cell_type": "code",
   "execution_count": 53,
   "metadata": {},
   "outputs": [],
   "source": [
    "t2 = Triangle(1,2,4)"
   ]
  },
  {
   "cell_type": "code",
   "execution_count": 54,
   "metadata": {},
   "outputs": [
    {
     "name": "stdout",
     "output_type": "stream",
     "text": [
      "Given sides 1,2 and 4 not form a triangle.\n"
     ]
    },
    {
     "data": {
      "text/plain": [
       "False"
      ]
     },
     "execution_count": 54,
     "metadata": {},
     "output_type": "execute_result"
    }
   ],
   "source": [
    "t2.is_tringle()"
   ]
  },
  {
   "cell_type": "code",
   "execution_count": 59,
   "metadata": {},
   "outputs": [
    {
     "name": "stdout",
     "output_type": "stream",
     "text": [
      "Given sides 1,2 and 4 not form a triangle.\n"
     ]
    }
   ],
   "source": [
    "p2  = t2.perimeter()"
   ]
  },
  {
   "cell_type": "code",
   "execution_count": 60,
   "metadata": {},
   "outputs": [],
   "source": [
    "p2"
   ]
  },
  {
   "cell_type": "code",
   "execution_count": 56,
   "metadata": {},
   "outputs": [
    {
     "name": "stdout",
     "output_type": "stream",
     "text": [
      "Given sides 1,2 and 4 not form a triangle.\n"
     ]
    }
   ],
   "source": [
    "a2 = t2.area_triangle()"
   ]
  },
  {
   "cell_type": "code",
   "execution_count": 61,
   "metadata": {},
   "outputs": [],
   "source": [
    "a2"
   ]
  },
  {
   "cell_type": "code",
   "execution_count": null,
   "metadata": {},
   "outputs": [],
   "source": []
  }
 ],
 "metadata": {
  "kernelspec": {
   "display_name": "venv",
   "language": "python",
   "name": "python3"
  },
  "language_info": {
   "codemirror_mode": {
    "name": "ipython",
    "version": 3
   },
   "file_extension": ".py",
   "mimetype": "text/x-python",
   "name": "python",
   "nbconvert_exporter": "python",
   "pygments_lexer": "ipython3",
   "version": "3.9.1"
  },
  "orig_nbformat": 4
 },
 "nbformat": 4,
 "nbformat_minor": 2
}
